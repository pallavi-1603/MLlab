{
  "nbformat": 4,
  "nbformat_minor": 0,
  "metadata": {
    "colab": {
      "provenance": [],
      "include_colab_link": true
    },
    "kernelspec": {
      "name": "python3",
      "display_name": "Python 3"
    },
    "language_info": {
      "name": "python"
    }
  },
  "cells": [
    {
      "cell_type": "markdown",
      "metadata": {
        "id": "view-in-github",
        "colab_type": "text"
      },
      "source": [
        "<a href=\"https://colab.research.google.com/github/Anagha-MS22/1BM21CS022_ML/blob/main/ENSEMBLELEARNING.ipynb\" target=\"_parent\"><img src=\"https://colab.research.google.com/assets/colab-badge.svg\" alt=\"Open In Colab\"/></a>"
      ]
    },
    {
      "cell_type": "code",
      "execution_count": 1,
      "metadata": {
        "id": "iKDRKsHk6ncW"
      },
      "outputs": [],
      "source": [
        "import pandas as pd\n",
        "import numpy as np\n",
        "import matplotlib.pyplot as plt\n",
        "import seaborn as sns\n",
        "\n",
        "%matplotlib inline\n",
        "sns.set_style(\"whitegrid\")\n",
        "plt.style.use(\"fivethirtyeight\")"
      ]
    },
    {
      "cell_type": "code",
      "source": [
        "df = pd.read_csv(\"/content/diabetes.csv\")\n",
        "df.head()"
      ],
      "metadata": {
        "colab": {
          "base_uri": "https://localhost:8080/",
          "height": 226
        },
        "id": "_LuRuasi8j6_",
        "outputId": "64b05a59-3d27-4cc5-ff73-c9e3309f3e49"
      },
      "execution_count": 2,
      "outputs": [
        {
          "output_type": "execute_result",
          "data": {
            "text/plain": [
              "   Pregnancies  Glucose  BloodPressure  SkinThickness  Insulin   BMI  \\\n",
              "0            6      148             72             35        0  33.6   \n",
              "1            1       85             66             29        0  26.6   \n",
              "2            8      183             64              0        0  23.3   \n",
              "3            1       89             66             23       94  28.1   \n",
              "4            0      137             40             35      168  43.1   \n",
              "\n",
              "   DiabetesPedigreeFunction  Age  Outcome  \n",
              "0                     0.627   50        1  \n",
              "1                     0.351   31        0  \n",
              "2                     0.672   32        1  \n",
              "3                     0.167   21        0  \n",
              "4                     2.288   33        1  "
            ],
            "text/html": [
              "\n",
              "  <div id=\"df-43fc55a7-2cdc-4049-a23e-b355c75e4756\" class=\"colab-df-container\">\n",
              "    <div>\n",
              "<style scoped>\n",
              "    .dataframe tbody tr th:only-of-type {\n",
              "        vertical-align: middle;\n",
              "    }\n",
              "\n",
              "    .dataframe tbody tr th {\n",
              "        vertical-align: top;\n",
              "    }\n",
              "\n",
              "    .dataframe thead th {\n",
              "        text-align: right;\n",
              "    }\n",
              "</style>\n",
              "<table border=\"1\" class=\"dataframe\">\n",
              "  <thead>\n",
              "    <tr style=\"text-align: right;\">\n",
              "      <th></th>\n",
              "      <th>Pregnancies</th>\n",
              "      <th>Glucose</th>\n",
              "      <th>BloodPressure</th>\n",
              "      <th>SkinThickness</th>\n",
              "      <th>Insulin</th>\n",
              "      <th>BMI</th>\n",
              "      <th>DiabetesPedigreeFunction</th>\n",
              "      <th>Age</th>\n",
              "      <th>Outcome</th>\n",
              "    </tr>\n",
              "  </thead>\n",
              "  <tbody>\n",
              "    <tr>\n",
              "      <th>0</th>\n",
              "      <td>6</td>\n",
              "      <td>148</td>\n",
              "      <td>72</td>\n",
              "      <td>35</td>\n",
              "      <td>0</td>\n",
              "      <td>33.6</td>\n",
              "      <td>0.627</td>\n",
              "      <td>50</td>\n",
              "      <td>1</td>\n",
              "    </tr>\n",
              "    <tr>\n",
              "      <th>1</th>\n",
              "      <td>1</td>\n",
              "      <td>85</td>\n",
              "      <td>66</td>\n",
              "      <td>29</td>\n",
              "      <td>0</td>\n",
              "      <td>26.6</td>\n",
              "      <td>0.351</td>\n",
              "      <td>31</td>\n",
              "      <td>0</td>\n",
              "    </tr>\n",
              "    <tr>\n",
              "      <th>2</th>\n",
              "      <td>8</td>\n",
              "      <td>183</td>\n",
              "      <td>64</td>\n",
              "      <td>0</td>\n",
              "      <td>0</td>\n",
              "      <td>23.3</td>\n",
              "      <td>0.672</td>\n",
              "      <td>32</td>\n",
              "      <td>1</td>\n",
              "    </tr>\n",
              "    <tr>\n",
              "      <th>3</th>\n",
              "      <td>1</td>\n",
              "      <td>89</td>\n",
              "      <td>66</td>\n",
              "      <td>23</td>\n",
              "      <td>94</td>\n",
              "      <td>28.1</td>\n",
              "      <td>0.167</td>\n",
              "      <td>21</td>\n",
              "      <td>0</td>\n",
              "    </tr>\n",
              "    <tr>\n",
              "      <th>4</th>\n",
              "      <td>0</td>\n",
              "      <td>137</td>\n",
              "      <td>40</td>\n",
              "      <td>35</td>\n",
              "      <td>168</td>\n",
              "      <td>43.1</td>\n",
              "      <td>2.288</td>\n",
              "      <td>33</td>\n",
              "      <td>1</td>\n",
              "    </tr>\n",
              "  </tbody>\n",
              "</table>\n",
              "</div>\n",
              "    <div class=\"colab-df-buttons\">\n",
              "\n",
              "  <div class=\"colab-df-container\">\n",
              "    <button class=\"colab-df-convert\" onclick=\"convertToInteractive('df-43fc55a7-2cdc-4049-a23e-b355c75e4756')\"\n",
              "            title=\"Convert this dataframe to an interactive table.\"\n",
              "            style=\"display:none;\">\n",
              "\n",
              "  <svg xmlns=\"http://www.w3.org/2000/svg\" height=\"24px\" viewBox=\"0 -960 960 960\">\n",
              "    <path d=\"M120-120v-720h720v720H120Zm60-500h600v-160H180v160Zm220 220h160v-160H400v160Zm0 220h160v-160H400v160ZM180-400h160v-160H180v160Zm440 0h160v-160H620v160ZM180-180h160v-160H180v160Zm440 0h160v-160H620v160Z\"/>\n",
              "  </svg>\n",
              "    </button>\n",
              "\n",
              "  <style>\n",
              "    .colab-df-container {\n",
              "      display:flex;\n",
              "      gap: 12px;\n",
              "    }\n",
              "\n",
              "    .colab-df-convert {\n",
              "      background-color: #E8F0FE;\n",
              "      border: none;\n",
              "      border-radius: 50%;\n",
              "      cursor: pointer;\n",
              "      display: none;\n",
              "      fill: #1967D2;\n",
              "      height: 32px;\n",
              "      padding: 0 0 0 0;\n",
              "      width: 32px;\n",
              "    }\n",
              "\n",
              "    .colab-df-convert:hover {\n",
              "      background-color: #E2EBFA;\n",
              "      box-shadow: 0px 1px 2px rgba(60, 64, 67, 0.3), 0px 1px 3px 1px rgba(60, 64, 67, 0.15);\n",
              "      fill: #174EA6;\n",
              "    }\n",
              "\n",
              "    .colab-df-buttons div {\n",
              "      margin-bottom: 4px;\n",
              "    }\n",
              "\n",
              "    [theme=dark] .colab-df-convert {\n",
              "      background-color: #3B4455;\n",
              "      fill: #D2E3FC;\n",
              "    }\n",
              "\n",
              "    [theme=dark] .colab-df-convert:hover {\n",
              "      background-color: #434B5C;\n",
              "      box-shadow: 0px 1px 3px 1px rgba(0, 0, 0, 0.15);\n",
              "      filter: drop-shadow(0px 1px 2px rgba(0, 0, 0, 0.3));\n",
              "      fill: #FFFFFF;\n",
              "    }\n",
              "  </style>\n",
              "\n",
              "    <script>\n",
              "      const buttonEl =\n",
              "        document.querySelector('#df-43fc55a7-2cdc-4049-a23e-b355c75e4756 button.colab-df-convert');\n",
              "      buttonEl.style.display =\n",
              "        google.colab.kernel.accessAllowed ? 'block' : 'none';\n",
              "\n",
              "      async function convertToInteractive(key) {\n",
              "        const element = document.querySelector('#df-43fc55a7-2cdc-4049-a23e-b355c75e4756');\n",
              "        const dataTable =\n",
              "          await google.colab.kernel.invokeFunction('convertToInteractive',\n",
              "                                                    [key], {});\n",
              "        if (!dataTable) return;\n",
              "\n",
              "        const docLinkHtml = 'Like what you see? Visit the ' +\n",
              "          '<a target=\"_blank\" href=https://colab.research.google.com/notebooks/data_table.ipynb>data table notebook</a>'\n",
              "          + ' to learn more about interactive tables.';\n",
              "        element.innerHTML = '';\n",
              "        dataTable['output_type'] = 'display_data';\n",
              "        await google.colab.output.renderOutput(dataTable, element);\n",
              "        const docLink = document.createElement('div');\n",
              "        docLink.innerHTML = docLinkHtml;\n",
              "        element.appendChild(docLink);\n",
              "      }\n",
              "    </script>\n",
              "  </div>\n",
              "\n",
              "\n",
              "<div id=\"df-080b0927-2c0d-4c46-8576-be66fc7a3e62\">\n",
              "  <button class=\"colab-df-quickchart\" onclick=\"quickchart('df-080b0927-2c0d-4c46-8576-be66fc7a3e62')\"\n",
              "            title=\"Suggest charts\"\n",
              "            style=\"display:none;\">\n",
              "\n",
              "<svg xmlns=\"http://www.w3.org/2000/svg\" height=\"24px\"viewBox=\"0 0 24 24\"\n",
              "     width=\"24px\">\n",
              "    <g>\n",
              "        <path d=\"M19 3H5c-1.1 0-2 .9-2 2v14c0 1.1.9 2 2 2h14c1.1 0 2-.9 2-2V5c0-1.1-.9-2-2-2zM9 17H7v-7h2v7zm4 0h-2V7h2v10zm4 0h-2v-4h2v4z\"/>\n",
              "    </g>\n",
              "</svg>\n",
              "  </button>\n",
              "\n",
              "<style>\n",
              "  .colab-df-quickchart {\n",
              "      --bg-color: #E8F0FE;\n",
              "      --fill-color: #1967D2;\n",
              "      --hover-bg-color: #E2EBFA;\n",
              "      --hover-fill-color: #174EA6;\n",
              "      --disabled-fill-color: #AAA;\n",
              "      --disabled-bg-color: #DDD;\n",
              "  }\n",
              "\n",
              "  [theme=dark] .colab-df-quickchart {\n",
              "      --bg-color: #3B4455;\n",
              "      --fill-color: #D2E3FC;\n",
              "      --hover-bg-color: #434B5C;\n",
              "      --hover-fill-color: #FFFFFF;\n",
              "      --disabled-bg-color: #3B4455;\n",
              "      --disabled-fill-color: #666;\n",
              "  }\n",
              "\n",
              "  .colab-df-quickchart {\n",
              "    background-color: var(--bg-color);\n",
              "    border: none;\n",
              "    border-radius: 50%;\n",
              "    cursor: pointer;\n",
              "    display: none;\n",
              "    fill: var(--fill-color);\n",
              "    height: 32px;\n",
              "    padding: 0;\n",
              "    width: 32px;\n",
              "  }\n",
              "\n",
              "  .colab-df-quickchart:hover {\n",
              "    background-color: var(--hover-bg-color);\n",
              "    box-shadow: 0 1px 2px rgba(60, 64, 67, 0.3), 0 1px 3px 1px rgba(60, 64, 67, 0.15);\n",
              "    fill: var(--button-hover-fill-color);\n",
              "  }\n",
              "\n",
              "  .colab-df-quickchart-complete:disabled,\n",
              "  .colab-df-quickchart-complete:disabled:hover {\n",
              "    background-color: var(--disabled-bg-color);\n",
              "    fill: var(--disabled-fill-color);\n",
              "    box-shadow: none;\n",
              "  }\n",
              "\n",
              "  .colab-df-spinner {\n",
              "    border: 2px solid var(--fill-color);\n",
              "    border-color: transparent;\n",
              "    border-bottom-color: var(--fill-color);\n",
              "    animation:\n",
              "      spin 1s steps(1) infinite;\n",
              "  }\n",
              "\n",
              "  @keyframes spin {\n",
              "    0% {\n",
              "      border-color: transparent;\n",
              "      border-bottom-color: var(--fill-color);\n",
              "      border-left-color: var(--fill-color);\n",
              "    }\n",
              "    20% {\n",
              "      border-color: transparent;\n",
              "      border-left-color: var(--fill-color);\n",
              "      border-top-color: var(--fill-color);\n",
              "    }\n",
              "    30% {\n",
              "      border-color: transparent;\n",
              "      border-left-color: var(--fill-color);\n",
              "      border-top-color: var(--fill-color);\n",
              "      border-right-color: var(--fill-color);\n",
              "    }\n",
              "    40% {\n",
              "      border-color: transparent;\n",
              "      border-right-color: var(--fill-color);\n",
              "      border-top-color: var(--fill-color);\n",
              "    }\n",
              "    60% {\n",
              "      border-color: transparent;\n",
              "      border-right-color: var(--fill-color);\n",
              "    }\n",
              "    80% {\n",
              "      border-color: transparent;\n",
              "      border-right-color: var(--fill-color);\n",
              "      border-bottom-color: var(--fill-color);\n",
              "    }\n",
              "    90% {\n",
              "      border-color: transparent;\n",
              "      border-bottom-color: var(--fill-color);\n",
              "    }\n",
              "  }\n",
              "</style>\n",
              "\n",
              "  <script>\n",
              "    async function quickchart(key) {\n",
              "      const quickchartButtonEl =\n",
              "        document.querySelector('#' + key + ' button');\n",
              "      quickchartButtonEl.disabled = true;  // To prevent multiple clicks.\n",
              "      quickchartButtonEl.classList.add('colab-df-spinner');\n",
              "      try {\n",
              "        const charts = await google.colab.kernel.invokeFunction(\n",
              "            'suggestCharts', [key], {});\n",
              "      } catch (error) {\n",
              "        console.error('Error during call to suggestCharts:', error);\n",
              "      }\n",
              "      quickchartButtonEl.classList.remove('colab-df-spinner');\n",
              "      quickchartButtonEl.classList.add('colab-df-quickchart-complete');\n",
              "    }\n",
              "    (() => {\n",
              "      let quickchartButtonEl =\n",
              "        document.querySelector('#df-080b0927-2c0d-4c46-8576-be66fc7a3e62 button');\n",
              "      quickchartButtonEl.style.display =\n",
              "        google.colab.kernel.accessAllowed ? 'block' : 'none';\n",
              "    })();\n",
              "  </script>\n",
              "</div>\n",
              "    </div>\n",
              "  </div>\n"
            ],
            "application/vnd.google.colaboratory.intrinsic+json": {
              "type": "dataframe",
              "variable_name": "df",
              "summary": "{\n  \"name\": \"df\",\n  \"rows\": 768,\n  \"fields\": [\n    {\n      \"column\": \"Pregnancies\",\n      \"properties\": {\n        \"dtype\": \"number\",\n        \"std\": 3,\n        \"min\": 0,\n        \"max\": 17,\n        \"num_unique_values\": 17,\n        \"samples\": [\n          6,\n          1,\n          3\n        ],\n        \"semantic_type\": \"\",\n        \"description\": \"\"\n      }\n    },\n    {\n      \"column\": \"Glucose\",\n      \"properties\": {\n        \"dtype\": \"number\",\n        \"std\": 31,\n        \"min\": 0,\n        \"max\": 199,\n        \"num_unique_values\": 136,\n        \"samples\": [\n          151,\n          101,\n          112\n        ],\n        \"semantic_type\": \"\",\n        \"description\": \"\"\n      }\n    },\n    {\n      \"column\": \"BloodPressure\",\n      \"properties\": {\n        \"dtype\": \"number\",\n        \"std\": 19,\n        \"min\": 0,\n        \"max\": 122,\n        \"num_unique_values\": 47,\n        \"samples\": [\n          86,\n          46,\n          85\n        ],\n        \"semantic_type\": \"\",\n        \"description\": \"\"\n      }\n    },\n    {\n      \"column\": \"SkinThickness\",\n      \"properties\": {\n        \"dtype\": \"number\",\n        \"std\": 15,\n        \"min\": 0,\n        \"max\": 99,\n        \"num_unique_values\": 51,\n        \"samples\": [\n          7,\n          12,\n          48\n        ],\n        \"semantic_type\": \"\",\n        \"description\": \"\"\n      }\n    },\n    {\n      \"column\": \"Insulin\",\n      \"properties\": {\n        \"dtype\": \"number\",\n        \"std\": 115,\n        \"min\": 0,\n        \"max\": 846,\n        \"num_unique_values\": 186,\n        \"samples\": [\n          52,\n          41,\n          183\n        ],\n        \"semantic_type\": \"\",\n        \"description\": \"\"\n      }\n    },\n    {\n      \"column\": \"BMI\",\n      \"properties\": {\n        \"dtype\": \"number\",\n        \"std\": 7.884160320375446,\n        \"min\": 0.0,\n        \"max\": 67.1,\n        \"num_unique_values\": 248,\n        \"samples\": [\n          19.9,\n          31.0,\n          38.1\n        ],\n        \"semantic_type\": \"\",\n        \"description\": \"\"\n      }\n    },\n    {\n      \"column\": \"DiabetesPedigreeFunction\",\n      \"properties\": {\n        \"dtype\": \"number\",\n        \"std\": 0.3313285950127749,\n        \"min\": 0.078,\n        \"max\": 2.42,\n        \"num_unique_values\": 517,\n        \"samples\": [\n          1.731,\n          0.426,\n          0.138\n        ],\n        \"semantic_type\": \"\",\n        \"description\": \"\"\n      }\n    },\n    {\n      \"column\": \"Age\",\n      \"properties\": {\n        \"dtype\": \"number\",\n        \"std\": 11,\n        \"min\": 21,\n        \"max\": 81,\n        \"num_unique_values\": 52,\n        \"samples\": [\n          60,\n          47,\n          72\n        ],\n        \"semantic_type\": \"\",\n        \"description\": \"\"\n      }\n    },\n    {\n      \"column\": \"Outcome\",\n      \"properties\": {\n        \"dtype\": \"number\",\n        \"std\": 0,\n        \"min\": 0,\n        \"max\": 1,\n        \"num_unique_values\": 2,\n        \"samples\": [\n          0,\n          1\n        ],\n        \"semantic_type\": \"\",\n        \"description\": \"\"\n      }\n    }\n  ]\n}"
            }
          },
          "metadata": {},
          "execution_count": 2
        }
      ]
    },
    {
      "cell_type": "code",
      "source": [
        "df.info()"
      ],
      "metadata": {
        "colab": {
          "base_uri": "https://localhost:8080/"
        },
        "id": "vwUKogvd8pLX",
        "outputId": "830ea579-1bde-41fb-98a5-64a59c929e92"
      },
      "execution_count": 3,
      "outputs": [
        {
          "output_type": "stream",
          "name": "stdout",
          "text": [
            "<class 'pandas.core.frame.DataFrame'>\n",
            "RangeIndex: 768 entries, 0 to 767\n",
            "Data columns (total 9 columns):\n",
            " #   Column                    Non-Null Count  Dtype  \n",
            "---  ------                    --------------  -----  \n",
            " 0   Pregnancies               768 non-null    int64  \n",
            " 1   Glucose                   768 non-null    int64  \n",
            " 2   BloodPressure             768 non-null    int64  \n",
            " 3   SkinThickness             768 non-null    int64  \n",
            " 4   Insulin                   768 non-null    int64  \n",
            " 5   BMI                       768 non-null    float64\n",
            " 6   DiabetesPedigreeFunction  768 non-null    float64\n",
            " 7   Age                       768 non-null    int64  \n",
            " 8   Outcome                   768 non-null    int64  \n",
            "dtypes: float64(2), int64(7)\n",
            "memory usage: 54.1 KB\n"
          ]
        }
      ]
    },
    {
      "cell_type": "code",
      "source": [
        "df.isnull().sum()"
      ],
      "metadata": {
        "colab": {
          "base_uri": "https://localhost:8080/"
        },
        "id": "KJ8cW0l48uEH",
        "outputId": "39184c4d-bfa2-4ee1-d142-b8ae14cccb34"
      },
      "execution_count": 4,
      "outputs": [
        {
          "output_type": "execute_result",
          "data": {
            "text/plain": [
              "Pregnancies                 0\n",
              "Glucose                     0\n",
              "BloodPressure               0\n",
              "SkinThickness               0\n",
              "Insulin                     0\n",
              "BMI                         0\n",
              "DiabetesPedigreeFunction    0\n",
              "Age                         0\n",
              "Outcome                     0\n",
              "dtype: int64"
            ]
          },
          "metadata": {},
          "execution_count": 4
        }
      ]
    },
    {
      "cell_type": "code",
      "source": [
        "pd.set_option('display.float_format', '{:.2f}'.format)\n",
        "df.describe()"
      ],
      "metadata": {
        "colab": {
          "base_uri": "https://localhost:8080/",
          "height": 320
        },
        "id": "LNe40rZP8xQQ",
        "outputId": "65a2be1a-77ca-4289-d1dc-069f6f160c6f"
      },
      "execution_count": 5,
      "outputs": [
        {
          "output_type": "execute_result",
          "data": {
            "text/plain": [
              "       Pregnancies  Glucose  BloodPressure  SkinThickness  Insulin    BMI  \\\n",
              "count       768.00   768.00         768.00         768.00   768.00 768.00   \n",
              "mean          3.85   120.89          69.11          20.54    79.80  31.99   \n",
              "std           3.37    31.97          19.36          15.95   115.24   7.88   \n",
              "min           0.00     0.00           0.00           0.00     0.00   0.00   \n",
              "25%           1.00    99.00          62.00           0.00     0.00  27.30   \n",
              "50%           3.00   117.00          72.00          23.00    30.50  32.00   \n",
              "75%           6.00   140.25          80.00          32.00   127.25  36.60   \n",
              "max          17.00   199.00         122.00          99.00   846.00  67.10   \n",
              "\n",
              "       DiabetesPedigreeFunction    Age  Outcome  \n",
              "count                    768.00 768.00   768.00  \n",
              "mean                       0.47  33.24     0.35  \n",
              "std                        0.33  11.76     0.48  \n",
              "min                        0.08  21.00     0.00  \n",
              "25%                        0.24  24.00     0.00  \n",
              "50%                        0.37  29.00     0.00  \n",
              "75%                        0.63  41.00     1.00  \n",
              "max                        2.42  81.00     1.00  "
            ],
            "text/html": [
              "\n",
              "  <div id=\"df-4f7ff6c1-d34f-4188-af98-de9a0bd8b434\" class=\"colab-df-container\">\n",
              "    <div>\n",
              "<style scoped>\n",
              "    .dataframe tbody tr th:only-of-type {\n",
              "        vertical-align: middle;\n",
              "    }\n",
              "\n",
              "    .dataframe tbody tr th {\n",
              "        vertical-align: top;\n",
              "    }\n",
              "\n",
              "    .dataframe thead th {\n",
              "        text-align: right;\n",
              "    }\n",
              "</style>\n",
              "<table border=\"1\" class=\"dataframe\">\n",
              "  <thead>\n",
              "    <tr style=\"text-align: right;\">\n",
              "      <th></th>\n",
              "      <th>Pregnancies</th>\n",
              "      <th>Glucose</th>\n",
              "      <th>BloodPressure</th>\n",
              "      <th>SkinThickness</th>\n",
              "      <th>Insulin</th>\n",
              "      <th>BMI</th>\n",
              "      <th>DiabetesPedigreeFunction</th>\n",
              "      <th>Age</th>\n",
              "      <th>Outcome</th>\n",
              "    </tr>\n",
              "  </thead>\n",
              "  <tbody>\n",
              "    <tr>\n",
              "      <th>count</th>\n",
              "      <td>768.00</td>\n",
              "      <td>768.00</td>\n",
              "      <td>768.00</td>\n",
              "      <td>768.00</td>\n",
              "      <td>768.00</td>\n",
              "      <td>768.00</td>\n",
              "      <td>768.00</td>\n",
              "      <td>768.00</td>\n",
              "      <td>768.00</td>\n",
              "    </tr>\n",
              "    <tr>\n",
              "      <th>mean</th>\n",
              "      <td>3.85</td>\n",
              "      <td>120.89</td>\n",
              "      <td>69.11</td>\n",
              "      <td>20.54</td>\n",
              "      <td>79.80</td>\n",
              "      <td>31.99</td>\n",
              "      <td>0.47</td>\n",
              "      <td>33.24</td>\n",
              "      <td>0.35</td>\n",
              "    </tr>\n",
              "    <tr>\n",
              "      <th>std</th>\n",
              "      <td>3.37</td>\n",
              "      <td>31.97</td>\n",
              "      <td>19.36</td>\n",
              "      <td>15.95</td>\n",
              "      <td>115.24</td>\n",
              "      <td>7.88</td>\n",
              "      <td>0.33</td>\n",
              "      <td>11.76</td>\n",
              "      <td>0.48</td>\n",
              "    </tr>\n",
              "    <tr>\n",
              "      <th>min</th>\n",
              "      <td>0.00</td>\n",
              "      <td>0.00</td>\n",
              "      <td>0.00</td>\n",
              "      <td>0.00</td>\n",
              "      <td>0.00</td>\n",
              "      <td>0.00</td>\n",
              "      <td>0.08</td>\n",
              "      <td>21.00</td>\n",
              "      <td>0.00</td>\n",
              "    </tr>\n",
              "    <tr>\n",
              "      <th>25%</th>\n",
              "      <td>1.00</td>\n",
              "      <td>99.00</td>\n",
              "      <td>62.00</td>\n",
              "      <td>0.00</td>\n",
              "      <td>0.00</td>\n",
              "      <td>27.30</td>\n",
              "      <td>0.24</td>\n",
              "      <td>24.00</td>\n",
              "      <td>0.00</td>\n",
              "    </tr>\n",
              "    <tr>\n",
              "      <th>50%</th>\n",
              "      <td>3.00</td>\n",
              "      <td>117.00</td>\n",
              "      <td>72.00</td>\n",
              "      <td>23.00</td>\n",
              "      <td>30.50</td>\n",
              "      <td>32.00</td>\n",
              "      <td>0.37</td>\n",
              "      <td>29.00</td>\n",
              "      <td>0.00</td>\n",
              "    </tr>\n",
              "    <tr>\n",
              "      <th>75%</th>\n",
              "      <td>6.00</td>\n",
              "      <td>140.25</td>\n",
              "      <td>80.00</td>\n",
              "      <td>32.00</td>\n",
              "      <td>127.25</td>\n",
              "      <td>36.60</td>\n",
              "      <td>0.63</td>\n",
              "      <td>41.00</td>\n",
              "      <td>1.00</td>\n",
              "    </tr>\n",
              "    <tr>\n",
              "      <th>max</th>\n",
              "      <td>17.00</td>\n",
              "      <td>199.00</td>\n",
              "      <td>122.00</td>\n",
              "      <td>99.00</td>\n",
              "      <td>846.00</td>\n",
              "      <td>67.10</td>\n",
              "      <td>2.42</td>\n",
              "      <td>81.00</td>\n",
              "      <td>1.00</td>\n",
              "    </tr>\n",
              "  </tbody>\n",
              "</table>\n",
              "</div>\n",
              "    <div class=\"colab-df-buttons\">\n",
              "\n",
              "  <div class=\"colab-df-container\">\n",
              "    <button class=\"colab-df-convert\" onclick=\"convertToInteractive('df-4f7ff6c1-d34f-4188-af98-de9a0bd8b434')\"\n",
              "            title=\"Convert this dataframe to an interactive table.\"\n",
              "            style=\"display:none;\">\n",
              "\n",
              "  <svg xmlns=\"http://www.w3.org/2000/svg\" height=\"24px\" viewBox=\"0 -960 960 960\">\n",
              "    <path d=\"M120-120v-720h720v720H120Zm60-500h600v-160H180v160Zm220 220h160v-160H400v160Zm0 220h160v-160H400v160ZM180-400h160v-160H180v160Zm440 0h160v-160H620v160ZM180-180h160v-160H180v160Zm440 0h160v-160H620v160Z\"/>\n",
              "  </svg>\n",
              "    </button>\n",
              "\n",
              "  <style>\n",
              "    .colab-df-container {\n",
              "      display:flex;\n",
              "      gap: 12px;\n",
              "    }\n",
              "\n",
              "    .colab-df-convert {\n",
              "      background-color: #E8F0FE;\n",
              "      border: none;\n",
              "      border-radius: 50%;\n",
              "      cursor: pointer;\n",
              "      display: none;\n",
              "      fill: #1967D2;\n",
              "      height: 32px;\n",
              "      padding: 0 0 0 0;\n",
              "      width: 32px;\n",
              "    }\n",
              "\n",
              "    .colab-df-convert:hover {\n",
              "      background-color: #E2EBFA;\n",
              "      box-shadow: 0px 1px 2px rgba(60, 64, 67, 0.3), 0px 1px 3px 1px rgba(60, 64, 67, 0.15);\n",
              "      fill: #174EA6;\n",
              "    }\n",
              "\n",
              "    .colab-df-buttons div {\n",
              "      margin-bottom: 4px;\n",
              "    }\n",
              "\n",
              "    [theme=dark] .colab-df-convert {\n",
              "      background-color: #3B4455;\n",
              "      fill: #D2E3FC;\n",
              "    }\n",
              "\n",
              "    [theme=dark] .colab-df-convert:hover {\n",
              "      background-color: #434B5C;\n",
              "      box-shadow: 0px 1px 3px 1px rgba(0, 0, 0, 0.15);\n",
              "      filter: drop-shadow(0px 1px 2px rgba(0, 0, 0, 0.3));\n",
              "      fill: #FFFFFF;\n",
              "    }\n",
              "  </style>\n",
              "\n",
              "    <script>\n",
              "      const buttonEl =\n",
              "        document.querySelector('#df-4f7ff6c1-d34f-4188-af98-de9a0bd8b434 button.colab-df-convert');\n",
              "      buttonEl.style.display =\n",
              "        google.colab.kernel.accessAllowed ? 'block' : 'none';\n",
              "\n",
              "      async function convertToInteractive(key) {\n",
              "        const element = document.querySelector('#df-4f7ff6c1-d34f-4188-af98-de9a0bd8b434');\n",
              "        const dataTable =\n",
              "          await google.colab.kernel.invokeFunction('convertToInteractive',\n",
              "                                                    [key], {});\n",
              "        if (!dataTable) return;\n",
              "\n",
              "        const docLinkHtml = 'Like what you see? Visit the ' +\n",
              "          '<a target=\"_blank\" href=https://colab.research.google.com/notebooks/data_table.ipynb>data table notebook</a>'\n",
              "          + ' to learn more about interactive tables.';\n",
              "        element.innerHTML = '';\n",
              "        dataTable['output_type'] = 'display_data';\n",
              "        await google.colab.output.renderOutput(dataTable, element);\n",
              "        const docLink = document.createElement('div');\n",
              "        docLink.innerHTML = docLinkHtml;\n",
              "        element.appendChild(docLink);\n",
              "      }\n",
              "    </script>\n",
              "  </div>\n",
              "\n",
              "\n",
              "<div id=\"df-a5a27e11-948b-4f95-95d1-500a32060d34\">\n",
              "  <button class=\"colab-df-quickchart\" onclick=\"quickchart('df-a5a27e11-948b-4f95-95d1-500a32060d34')\"\n",
              "            title=\"Suggest charts\"\n",
              "            style=\"display:none;\">\n",
              "\n",
              "<svg xmlns=\"http://www.w3.org/2000/svg\" height=\"24px\"viewBox=\"0 0 24 24\"\n",
              "     width=\"24px\">\n",
              "    <g>\n",
              "        <path d=\"M19 3H5c-1.1 0-2 .9-2 2v14c0 1.1.9 2 2 2h14c1.1 0 2-.9 2-2V5c0-1.1-.9-2-2-2zM9 17H7v-7h2v7zm4 0h-2V7h2v10zm4 0h-2v-4h2v4z\"/>\n",
              "    </g>\n",
              "</svg>\n",
              "  </button>\n",
              "\n",
              "<style>\n",
              "  .colab-df-quickchart {\n",
              "      --bg-color: #E8F0FE;\n",
              "      --fill-color: #1967D2;\n",
              "      --hover-bg-color: #E2EBFA;\n",
              "      --hover-fill-color: #174EA6;\n",
              "      --disabled-fill-color: #AAA;\n",
              "      --disabled-bg-color: #DDD;\n",
              "  }\n",
              "\n",
              "  [theme=dark] .colab-df-quickchart {\n",
              "      --bg-color: #3B4455;\n",
              "      --fill-color: #D2E3FC;\n",
              "      --hover-bg-color: #434B5C;\n",
              "      --hover-fill-color: #FFFFFF;\n",
              "      --disabled-bg-color: #3B4455;\n",
              "      --disabled-fill-color: #666;\n",
              "  }\n",
              "\n",
              "  .colab-df-quickchart {\n",
              "    background-color: var(--bg-color);\n",
              "    border: none;\n",
              "    border-radius: 50%;\n",
              "    cursor: pointer;\n",
              "    display: none;\n",
              "    fill: var(--fill-color);\n",
              "    height: 32px;\n",
              "    padding: 0;\n",
              "    width: 32px;\n",
              "  }\n",
              "\n",
              "  .colab-df-quickchart:hover {\n",
              "    background-color: var(--hover-bg-color);\n",
              "    box-shadow: 0 1px 2px rgba(60, 64, 67, 0.3), 0 1px 3px 1px rgba(60, 64, 67, 0.15);\n",
              "    fill: var(--button-hover-fill-color);\n",
              "  }\n",
              "\n",
              "  .colab-df-quickchart-complete:disabled,\n",
              "  .colab-df-quickchart-complete:disabled:hover {\n",
              "    background-color: var(--disabled-bg-color);\n",
              "    fill: var(--disabled-fill-color);\n",
              "    box-shadow: none;\n",
              "  }\n",
              "\n",
              "  .colab-df-spinner {\n",
              "    border: 2px solid var(--fill-color);\n",
              "    border-color: transparent;\n",
              "    border-bottom-color: var(--fill-color);\n",
              "    animation:\n",
              "      spin 1s steps(1) infinite;\n",
              "  }\n",
              "\n",
              "  @keyframes spin {\n",
              "    0% {\n",
              "      border-color: transparent;\n",
              "      border-bottom-color: var(--fill-color);\n",
              "      border-left-color: var(--fill-color);\n",
              "    }\n",
              "    20% {\n",
              "      border-color: transparent;\n",
              "      border-left-color: var(--fill-color);\n",
              "      border-top-color: var(--fill-color);\n",
              "    }\n",
              "    30% {\n",
              "      border-color: transparent;\n",
              "      border-left-color: var(--fill-color);\n",
              "      border-top-color: var(--fill-color);\n",
              "      border-right-color: var(--fill-color);\n",
              "    }\n",
              "    40% {\n",
              "      border-color: transparent;\n",
              "      border-right-color: var(--fill-color);\n",
              "      border-top-color: var(--fill-color);\n",
              "    }\n",
              "    60% {\n",
              "      border-color: transparent;\n",
              "      border-right-color: var(--fill-color);\n",
              "    }\n",
              "    80% {\n",
              "      border-color: transparent;\n",
              "      border-right-color: var(--fill-color);\n",
              "      border-bottom-color: var(--fill-color);\n",
              "    }\n",
              "    90% {\n",
              "      border-color: transparent;\n",
              "      border-bottom-color: var(--fill-color);\n",
              "    }\n",
              "  }\n",
              "</style>\n",
              "\n",
              "  <script>\n",
              "    async function quickchart(key) {\n",
              "      const quickchartButtonEl =\n",
              "        document.querySelector('#' + key + ' button');\n",
              "      quickchartButtonEl.disabled = true;  // To prevent multiple clicks.\n",
              "      quickchartButtonEl.classList.add('colab-df-spinner');\n",
              "      try {\n",
              "        const charts = await google.colab.kernel.invokeFunction(\n",
              "            'suggestCharts', [key], {});\n",
              "      } catch (error) {\n",
              "        console.error('Error during call to suggestCharts:', error);\n",
              "      }\n",
              "      quickchartButtonEl.classList.remove('colab-df-spinner');\n",
              "      quickchartButtonEl.classList.add('colab-df-quickchart-complete');\n",
              "    }\n",
              "    (() => {\n",
              "      let quickchartButtonEl =\n",
              "        document.querySelector('#df-a5a27e11-948b-4f95-95d1-500a32060d34 button');\n",
              "      quickchartButtonEl.style.display =\n",
              "        google.colab.kernel.accessAllowed ? 'block' : 'none';\n",
              "    })();\n",
              "  </script>\n",
              "</div>\n",
              "    </div>\n",
              "  </div>\n"
            ],
            "application/vnd.google.colaboratory.intrinsic+json": {
              "type": "dataframe",
              "summary": "{\n  \"name\": \"df\",\n  \"rows\": 8,\n  \"fields\": [\n    {\n      \"column\": \"Pregnancies\",\n      \"properties\": {\n        \"dtype\": \"number\",\n        \"std\": 269.85223453356366,\n        \"min\": 0.0,\n        \"max\": 768.0,\n        \"num_unique_values\": 8,\n        \"samples\": [\n          3.8450520833333335,\n          3.0,\n          768.0\n        ],\n        \"semantic_type\": \"\",\n        \"description\": \"\"\n      }\n    },\n    {\n      \"column\": \"Glucose\",\n      \"properties\": {\n        \"dtype\": \"number\",\n        \"std\": 243.73802348295857,\n        \"min\": 0.0,\n        \"max\": 768.0,\n        \"num_unique_values\": 8,\n        \"samples\": [\n          120.89453125,\n          117.0,\n          768.0\n        ],\n        \"semantic_type\": \"\",\n        \"description\": \"\"\n      }\n    },\n    {\n      \"column\": \"BloodPressure\",\n      \"properties\": {\n        \"dtype\": \"number\",\n        \"std\": 252.8525053581062,\n        \"min\": 0.0,\n        \"max\": 768.0,\n        \"num_unique_values\": 8,\n        \"samples\": [\n          69.10546875,\n          72.0,\n          768.0\n        ],\n        \"semantic_type\": \"\",\n        \"description\": \"\"\n      }\n    },\n    {\n      \"column\": \"SkinThickness\",\n      \"properties\": {\n        \"dtype\": \"number\",\n        \"std\": 263.7684730531098,\n        \"min\": 0.0,\n        \"max\": 768.0,\n        \"num_unique_values\": 7,\n        \"samples\": [\n          768.0,\n          20.536458333333332,\n          32.0\n        ],\n        \"semantic_type\": \"\",\n        \"description\": \"\"\n      }\n    },\n    {\n      \"column\": \"Insulin\",\n      \"properties\": {\n        \"dtype\": \"number\",\n        \"std\": 350.26059167945886,\n        \"min\": 0.0,\n        \"max\": 846.0,\n        \"num_unique_values\": 7,\n        \"samples\": [\n          768.0,\n          79.79947916666667,\n          127.25\n        ],\n        \"semantic_type\": \"\",\n        \"description\": \"\"\n      }\n    },\n    {\n      \"column\": \"BMI\",\n      \"properties\": {\n        \"dtype\": \"number\",\n        \"std\": 262.05117817552093,\n        \"min\": 0.0,\n        \"max\": 768.0,\n        \"num_unique_values\": 8,\n        \"samples\": [\n          31.992578124999998,\n          32.0,\n          768.0\n        ],\n        \"semantic_type\": \"\",\n        \"description\": \"\"\n      }\n    },\n    {\n      \"column\": \"DiabetesPedigreeFunction\",\n      \"properties\": {\n        \"dtype\": \"number\",\n        \"std\": 271.3005221658502,\n        \"min\": 0.078,\n        \"max\": 768.0,\n        \"num_unique_values\": 8,\n        \"samples\": [\n          0.47187630208333325,\n          0.3725,\n          768.0\n        ],\n        \"semantic_type\": \"\",\n        \"description\": \"\"\n      }\n    },\n    {\n      \"column\": \"Age\",\n      \"properties\": {\n        \"dtype\": \"number\",\n        \"std\": 260.1941178528413,\n        \"min\": 11.760231540678685,\n        \"max\": 768.0,\n        \"num_unique_values\": 8,\n        \"samples\": [\n          33.240885416666664,\n          29.0,\n          768.0\n        ],\n        \"semantic_type\": \"\",\n        \"description\": \"\"\n      }\n    },\n    {\n      \"column\": \"Outcome\",\n      \"properties\": {\n        \"dtype\": \"number\",\n        \"std\": 271.3865920388932,\n        \"min\": 0.0,\n        \"max\": 768.0,\n        \"num_unique_values\": 5,\n        \"samples\": [\n          0.3489583333333333,\n          1.0,\n          0.47695137724279896\n        ],\n        \"semantic_type\": \"\",\n        \"description\": \"\"\n      }\n    }\n  ]\n}"
            }
          },
          "metadata": {},
          "execution_count": 5
        }
      ]
    },
    {
      "cell_type": "code",
      "source": [
        "categorical_val = []\n",
        "continous_val = []\n",
        "for column in df.columns:\n",
        "#     print('==============================')\n",
        "#     print(f\"{column} : {df[column].unique()}\")\n",
        "    if len(df[column].unique()) <= 10:\n",
        "        categorical_val.append(column)\n",
        "    else:\n",
        "        continous_val.append(column)"
      ],
      "metadata": {
        "id": "ANWNP40p8yr_"
      },
      "execution_count": 6,
      "outputs": []
    },
    {
      "cell_type": "code",
      "source": [
        "df.columns"
      ],
      "metadata": {
        "colab": {
          "base_uri": "https://localhost:8080/"
        },
        "id": "2X6Oc0k983HN",
        "outputId": "8241eac9-e3ed-4b50-a5cc-5ba2961663b8"
      },
      "execution_count": 7,
      "outputs": [
        {
          "output_type": "execute_result",
          "data": {
            "text/plain": [
              "Index(['Pregnancies', 'Glucose', 'BloodPressure', 'SkinThickness', 'Insulin',\n",
              "       'BMI', 'DiabetesPedigreeFunction', 'Age', 'Outcome'],\n",
              "      dtype='object')"
            ]
          },
          "metadata": {},
          "execution_count": 7
        }
      ]
    },
    {
      "cell_type": "code",
      "source": [
        "df.columns"
      ],
      "metadata": {
        "colab": {
          "base_uri": "https://localhost:8080/"
        },
        "id": "GIbQ1WyE88wV",
        "outputId": "a07b273a-dd8e-40cc-9cf0-1d5ba284f4de"
      },
      "execution_count": 8,
      "outputs": [
        {
          "output_type": "execute_result",
          "data": {
            "text/plain": [
              "Index(['Pregnancies', 'Glucose', 'BloodPressure', 'SkinThickness', 'Insulin',\n",
              "       'BMI', 'DiabetesPedigreeFunction', 'Age', 'Outcome'],\n",
              "      dtype='object')"
            ]
          },
          "metadata": {},
          "execution_count": 8
        }
      ]
    },
    {
      "cell_type": "code",
      "source": [
        "# How many missing zeros are mising in each feature\n",
        "feature_columns = [\n",
        "    'Pregnancies', 'Glucose', 'BloodPressure', 'SkinThickness',\n",
        "    'Insulin', 'BMI', 'DiabetesPedigreeFunction', 'Age'\n",
        "]\n",
        "\n",
        "for column in feature_columns:\n",
        "    print(\"============================================\")\n",
        "    print(f\"{column} ==> Missing zeros : {len(df.loc[df[column] == 0])}\")"
      ],
      "metadata": {
        "colab": {
          "base_uri": "https://localhost:8080/"
        },
        "id": "ZTyTBS4M8_pE",
        "outputId": "e94e3a8b-160a-490b-a613-d52b56e3c4c4"
      },
      "execution_count": 9,
      "outputs": [
        {
          "output_type": "stream",
          "name": "stdout",
          "text": [
            "============================================\n",
            "Pregnancies ==> Missing zeros : 111\n",
            "============================================\n",
            "Glucose ==> Missing zeros : 5\n",
            "============================================\n",
            "BloodPressure ==> Missing zeros : 35\n",
            "============================================\n",
            "SkinThickness ==> Missing zeros : 227\n",
            "============================================\n",
            "Insulin ==> Missing zeros : 374\n",
            "============================================\n",
            "BMI ==> Missing zeros : 11\n",
            "============================================\n",
            "DiabetesPedigreeFunction ==> Missing zeros : 0\n",
            "============================================\n",
            "Age ==> Missing zeros : 0\n"
          ]
        }
      ]
    },
    {
      "cell_type": "code",
      "source": [
        "from sklearn.impute import SimpleImputer\n",
        "\n",
        "\n",
        "fill_values = SimpleImputer(missing_values=0, strategy=\"mean\", copy=False)\n",
        "df[feature_columns] = fill_values.fit_transform(df[feature_columns])\n",
        "\n",
        "for column in feature_columns:\n",
        "    print(\"============================================\")\n",
        "    print(f\"{column} ==> Missing zeros : {len(df.loc[df[column] == 0])}\")"
      ],
      "metadata": {
        "colab": {
          "base_uri": "https://localhost:8080/"
        },
        "id": "Wex1dF2l9CPM",
        "outputId": "3ec47c7b-6ebb-48e3-8d90-41fa4e089221"
      },
      "execution_count": 10,
      "outputs": [
        {
          "output_type": "stream",
          "name": "stdout",
          "text": [
            "============================================\n",
            "Pregnancies ==> Missing zeros : 0\n",
            "============================================\n",
            "Glucose ==> Missing zeros : 0\n",
            "============================================\n",
            "BloodPressure ==> Missing zeros : 0\n",
            "============================================\n",
            "SkinThickness ==> Missing zeros : 0\n",
            "============================================\n",
            "Insulin ==> Missing zeros : 0\n",
            "============================================\n",
            "BMI ==> Missing zeros : 0\n",
            "============================================\n",
            "DiabetesPedigreeFunction ==> Missing zeros : 0\n",
            "============================================\n",
            "Age ==> Missing zeros : 0\n"
          ]
        }
      ]
    },
    {
      "cell_type": "code",
      "source": [
        "from sklearn.model_selection import train_test_split\n",
        "\n",
        "\n",
        "X = df[feature_columns]\n",
        "y = df.Outcome\n",
        "\n",
        "X_train, X_test, y_train, y_test = train_test_split(X, y, test_size=0.3, random_state=42)"
      ],
      "metadata": {
        "id": "ZefPLNqt9GYA"
      },
      "execution_count": 11,
      "outputs": []
    },
    {
      "cell_type": "code",
      "source": [
        "from sklearn.metrics import confusion_matrix, accuracy_score, classification_report\n",
        "\n",
        "\n",
        "def evaluate(model, X_train, X_test, y_train, y_test):\n",
        "    y_test_pred = model.predict(X_test)\n",
        "    y_train_pred = model.predict(X_train)\n",
        "\n",
        "    print(\"TRAINIG RESULTS: \\n===============================\")\n",
        "    clf_report = pd.DataFrame(classification_report(y_train, y_train_pred, output_dict=True))\n",
        "    print(f\"CONFUSION MATRIX:\\n{confusion_matrix(y_train, y_train_pred)}\")\n",
        "    print(f\"ACCURACY SCORE:\\n{accuracy_score(y_train, y_train_pred):.4f}\")\n",
        "    print(f\"CLASSIFICATION REPORT:\\n{clf_report}\")\n",
        "\n",
        "    print(\"TESTING RESULTS: \\n===============================\")\n",
        "    clf_report = pd.DataFrame(classification_report(y_test, y_test_pred, output_dict=True))\n",
        "    print(f\"CONFUSION MATRIX:\\n{confusion_matrix(y_test, y_test_pred)}\")\n",
        "    print(f\"ACCURACY SCORE:\\n{accuracy_score(y_test, y_test_pred):.4f}\")\n",
        "    print(f\"CLASSIFICATION REPORT:\\n{clf_report}\")"
      ],
      "metadata": {
        "id": "M4SbvR4g9JTP"
      },
      "execution_count": 12,
      "outputs": []
    },
    {
      "cell_type": "code",
      "source": [
        "from sklearn.ensemble import AdaBoostClassifier\n",
        "\n",
        "ada_boost_clf = AdaBoostClassifier(n_estimators=30)\n",
        "ada_boost_clf.fit(X_train, y_train)\n",
        "evaluate(ada_boost_clf, X_train, X_test, y_train, y_test)"
      ],
      "metadata": {
        "colab": {
          "base_uri": "https://localhost:8080/"
        },
        "id": "jmMHrzIr9PZI",
        "outputId": "1d544207-be24-4fdb-cbc8-d55c3feb494e"
      },
      "execution_count": 13,
      "outputs": [
        {
          "output_type": "stream",
          "name": "stdout",
          "text": [
            "TRAINIG RESULTS: \n",
            "===============================\n",
            "CONFUSION MATRIX:\n",
            "[[310  39]\n",
            " [ 51 137]]\n",
            "ACCURACY SCORE:\n",
            "0.8324\n",
            "CLASSIFICATION REPORT:\n",
            "               0      1  accuracy  macro avg  weighted avg\n",
            "precision   0.86   0.78      0.83       0.82          0.83\n",
            "recall      0.89   0.73      0.83       0.81          0.83\n",
            "f1-score    0.87   0.75      0.83       0.81          0.83\n",
            "support   349.00 188.00      0.83     537.00        537.00\n",
            "TESTING RESULTS: \n",
            "===============================\n",
            "CONFUSION MATRIX:\n",
            "[[123  28]\n",
            " [ 27  53]]\n",
            "ACCURACY SCORE:\n",
            "0.7619\n",
            "CLASSIFICATION REPORT:\n",
            "               0     1  accuracy  macro avg  weighted avg\n",
            "precision   0.82  0.65      0.76       0.74          0.76\n",
            "recall      0.81  0.66      0.76       0.74          0.76\n",
            "f1-score    0.82  0.66      0.76       0.74          0.76\n",
            "support   151.00 80.00      0.76     231.00        231.00\n"
          ]
        }
      ]
    },
    {
      "cell_type": "code",
      "source": [
        "scores = {}\n",
        "scores['AdaBoost'] = {\n",
        "        'Train': accuracy_score(y_train, ada_boost_clf.predict(X_train)),\n",
        "        'Test': accuracy_score(y_test, ada_boost_clf.predict(X_test)),\n",
        "    }"
      ],
      "metadata": {
        "id": "7cDT-2ye9S43"
      },
      "execution_count": 14,
      "outputs": []
    },
    {
      "cell_type": "code",
      "source": [
        "from sklearn.ensemble import BaggingClassifier\n",
        "from sklearn.tree import DecisionTreeClassifier\n",
        "\n",
        "tree = DecisionTreeClassifier()\n",
        "bagging_clf = BaggingClassifier(base_estimator=tree, n_estimators=1500, random_state=42)\n",
        "bagging_clf.fit(X_train, y_train)\n",
        "\n",
        "evaluate(bagging_clf, X_train, X_test, y_train, y_test)"
      ],
      "metadata": {
        "colab": {
          "base_uri": "https://localhost:8080/"
        },
        "id": "xKwGP-s2-Lqw",
        "outputId": "b3498a3e-24e1-4bf5-eba4-e4e3317acc19"
      },
      "execution_count": 15,
      "outputs": [
        {
          "output_type": "stream",
          "name": "stderr",
          "text": [
            "/usr/local/lib/python3.10/dist-packages/sklearn/ensemble/_base.py:166: FutureWarning: `base_estimator` was renamed to `estimator` in version 1.2 and will be removed in 1.4.\n",
            "  warnings.warn(\n"
          ]
        },
        {
          "output_type": "stream",
          "name": "stdout",
          "text": [
            "TRAINIG RESULTS: \n",
            "===============================\n",
            "CONFUSION MATRIX:\n",
            "[[349   0]\n",
            " [  0 188]]\n",
            "ACCURACY SCORE:\n",
            "1.0000\n",
            "CLASSIFICATION REPORT:\n",
            "               0      1  accuracy  macro avg  weighted avg\n",
            "precision   1.00   1.00      1.00       1.00          1.00\n",
            "recall      1.00   1.00      1.00       1.00          1.00\n",
            "f1-score    1.00   1.00      1.00       1.00          1.00\n",
            "support   349.00 188.00      1.00     537.00        537.00\n",
            "TESTING RESULTS: \n",
            "===============================\n",
            "CONFUSION MATRIX:\n",
            "[[119  32]\n",
            " [ 24  56]]\n",
            "ACCURACY SCORE:\n",
            "0.7576\n",
            "CLASSIFICATION REPORT:\n",
            "               0     1  accuracy  macro avg  weighted avg\n",
            "precision   0.83  0.64      0.76       0.73          0.76\n",
            "recall      0.79  0.70      0.76       0.74          0.76\n",
            "f1-score    0.81  0.67      0.76       0.74          0.76\n",
            "support   151.00 80.00      0.76     231.00        231.00\n"
          ]
        }
      ]
    },
    {
      "cell_type": "code",
      "source": [
        "scores = {\n",
        "    'Bagging Classifier': {\n",
        "        'Train': accuracy_score(y_train, bagging_clf.predict(X_train)),\n",
        "        'Test': accuracy_score(y_test, bagging_clf.predict(X_test)),\n",
        "    },\n",
        "}"
      ],
      "metadata": {
        "id": "9nEtoyD2-QBn"
      },
      "execution_count": 16,
      "outputs": []
    },
    {
      "cell_type": "code",
      "source": [
        "from sklearn.ensemble import RandomForestClassifier\n",
        "\n",
        "rf_clf = RandomForestClassifier(random_state=42, n_estimators=1000)\n",
        "rf_clf.fit(X_train, y_train)\n",
        "evaluate(rf_clf, X_train, X_test, y_train, y_test)"
      ],
      "metadata": {
        "colab": {
          "base_uri": "https://localhost:8080/"
        },
        "id": "_f8KUDRG-ScA",
        "outputId": "1881386f-134c-4095-8abc-e618e151288b"
      },
      "execution_count": 17,
      "outputs": [
        {
          "output_type": "stream",
          "name": "stdout",
          "text": [
            "TRAINIG RESULTS: \n",
            "===============================\n",
            "CONFUSION MATRIX:\n",
            "[[349   0]\n",
            " [  0 188]]\n",
            "ACCURACY SCORE:\n",
            "1.0000\n",
            "CLASSIFICATION REPORT:\n",
            "               0      1  accuracy  macro avg  weighted avg\n",
            "precision   1.00   1.00      1.00       1.00          1.00\n",
            "recall      1.00   1.00      1.00       1.00          1.00\n",
            "f1-score    1.00   1.00      1.00       1.00          1.00\n",
            "support   349.00 188.00      1.00     537.00        537.00\n",
            "TESTING RESULTS: \n",
            "===============================\n",
            "CONFUSION MATRIX:\n",
            "[[123  28]\n",
            " [ 29  51]]\n",
            "ACCURACY SCORE:\n",
            "0.7532\n",
            "CLASSIFICATION REPORT:\n",
            "               0     1  accuracy  macro avg  weighted avg\n",
            "precision   0.81  0.65      0.75       0.73          0.75\n",
            "recall      0.81  0.64      0.75       0.73          0.75\n",
            "f1-score    0.81  0.64      0.75       0.73          0.75\n",
            "support   151.00 80.00      0.75     231.00        231.00\n"
          ]
        }
      ]
    },
    {
      "cell_type": "code",
      "source": [
        "scores['Random Forest'] = {\n",
        "        'Train': accuracy_score(y_train, rf_clf.predict(X_train)),\n",
        "        'Test': accuracy_score(y_test, rf_clf.predict(X_test)),\n",
        "    }"
      ],
      "metadata": {
        "id": "VIW8OStw-VK_"
      },
      "execution_count": 18,
      "outputs": []
    },
    {
      "cell_type": "code",
      "source": [
        "from sklearn.ensemble import ExtraTreesClassifier\n",
        "\n",
        "ex_tree_clf = ExtraTreesClassifier(n_estimators=1000, max_features=7, random_state=42)\n",
        "ex_tree_clf.fit(X_train, y_train)\n",
        "evaluate(ex_tree_clf, X_train, X_test, y_train, y_test)"
      ],
      "metadata": {
        "colab": {
          "base_uri": "https://localhost:8080/"
        },
        "id": "CGLA7ta--YhX",
        "outputId": "a9df1057-af31-441a-9634-d6327e9497ce"
      },
      "execution_count": 19,
      "outputs": [
        {
          "output_type": "stream",
          "name": "stdout",
          "text": [
            "TRAINIG RESULTS: \n",
            "===============================\n",
            "CONFUSION MATRIX:\n",
            "[[349   0]\n",
            " [  0 188]]\n",
            "ACCURACY SCORE:\n",
            "1.0000\n",
            "CLASSIFICATION REPORT:\n",
            "               0      1  accuracy  macro avg  weighted avg\n",
            "precision   1.00   1.00      1.00       1.00          1.00\n",
            "recall      1.00   1.00      1.00       1.00          1.00\n",
            "f1-score    1.00   1.00      1.00       1.00          1.00\n",
            "support   349.00 188.00      1.00     537.00        537.00\n",
            "TESTING RESULTS: \n",
            "===============================\n",
            "CONFUSION MATRIX:\n",
            "[[124  27]\n",
            " [ 25  55]]\n",
            "ACCURACY SCORE:\n",
            "0.7749\n",
            "CLASSIFICATION REPORT:\n",
            "               0     1  accuracy  macro avg  weighted avg\n",
            "precision   0.83  0.67      0.77       0.75          0.78\n",
            "recall      0.82  0.69      0.77       0.75          0.77\n",
            "f1-score    0.83  0.68      0.77       0.75          0.78\n",
            "support   151.00 80.00      0.77     231.00        231.00\n"
          ]
        }
      ]
    },
    {
      "cell_type": "code",
      "source": [
        "scores['Extra Tree'] = {\n",
        "        'Train': accuracy_score(y_train, ex_tree_clf.predict(X_train)),\n",
        "        'Test': accuracy_score(y_test, ex_tree_clf.predict(X_test)),\n",
        "    }"
      ],
      "metadata": {
        "id": "r4gQFHWY-a9H"
      },
      "execution_count": 20,
      "outputs": []
    },
    {
      "cell_type": "code",
      "source": [
        "from sklearn.ensemble import AdaBoostClassifier\n",
        "\n",
        "ada_boost_clf = AdaBoostClassifier(n_estimators=30)\n",
        "ada_boost_clf.fit(X_train, y_train)\n",
        "evaluate(ada_boost_clf, X_train, X_test, y_train, y_test)"
      ],
      "metadata": {
        "colab": {
          "base_uri": "https://localhost:8080/"
        },
        "id": "MuBZlJzB-eEQ",
        "outputId": "605cf894-825a-413a-e407-6e5858f5d7d7"
      },
      "execution_count": 21,
      "outputs": [
        {
          "output_type": "stream",
          "name": "stdout",
          "text": [
            "TRAINIG RESULTS: \n",
            "===============================\n",
            "CONFUSION MATRIX:\n",
            "[[310  39]\n",
            " [ 51 137]]\n",
            "ACCURACY SCORE:\n",
            "0.8324\n",
            "CLASSIFICATION REPORT:\n",
            "               0      1  accuracy  macro avg  weighted avg\n",
            "precision   0.86   0.78      0.83       0.82          0.83\n",
            "recall      0.89   0.73      0.83       0.81          0.83\n",
            "f1-score    0.87   0.75      0.83       0.81          0.83\n",
            "support   349.00 188.00      0.83     537.00        537.00\n",
            "TESTING RESULTS: \n",
            "===============================\n",
            "CONFUSION MATRIX:\n",
            "[[123  28]\n",
            " [ 27  53]]\n",
            "ACCURACY SCORE:\n",
            "0.7619\n",
            "CLASSIFICATION REPORT:\n",
            "               0     1  accuracy  macro avg  weighted avg\n",
            "precision   0.82  0.65      0.76       0.74          0.76\n",
            "recall      0.81  0.66      0.76       0.74          0.76\n",
            "f1-score    0.82  0.66      0.76       0.74          0.76\n",
            "support   151.00 80.00      0.76     231.00        231.00\n"
          ]
        }
      ]
    },
    {
      "cell_type": "code",
      "source": [
        "scores['AdaBoost'] = {\n",
        "        'Train': accuracy_score(y_train, ada_boost_clf.predict(X_train)),\n",
        "        'Test': accuracy_score(y_test, ada_boost_clf.predict(X_test)),\n",
        "    }"
      ],
      "metadata": {
        "id": "9VIGT6QR-guA"
      },
      "execution_count": 22,
      "outputs": []
    },
    {
      "cell_type": "code",
      "source": [
        "from sklearn.ensemble import GradientBoostingClassifier\n",
        "\n",
        "grad_boost_clf = GradientBoostingClassifier(n_estimators=100, random_state=42)\n",
        "grad_boost_clf.fit(X_train, y_train)\n",
        "evaluate(grad_boost_clf, X_train, X_test, y_train, y_test)"
      ],
      "metadata": {
        "colab": {
          "base_uri": "https://localhost:8080/"
        },
        "id": "Iw0iQ1dC-lwY",
        "outputId": "21824014-de07-473e-dbfa-217b6bbe27af"
      },
      "execution_count": 23,
      "outputs": [
        {
          "output_type": "stream",
          "name": "stdout",
          "text": [
            "TRAINIG RESULTS: \n",
            "===============================\n",
            "CONFUSION MATRIX:\n",
            "[[342   7]\n",
            " [ 19 169]]\n",
            "ACCURACY SCORE:\n",
            "0.9516\n",
            "CLASSIFICATION REPORT:\n",
            "               0      1  accuracy  macro avg  weighted avg\n",
            "precision   0.95   0.96      0.95       0.95          0.95\n",
            "recall      0.98   0.90      0.95       0.94          0.95\n",
            "f1-score    0.96   0.93      0.95       0.95          0.95\n",
            "support   349.00 188.00      0.95     537.00        537.00\n",
            "TESTING RESULTS: \n",
            "===============================\n",
            "CONFUSION MATRIX:\n",
            "[[116  35]\n",
            " [ 26  54]]\n",
            "ACCURACY SCORE:\n",
            "0.7359\n",
            "CLASSIFICATION REPORT:\n",
            "               0     1  accuracy  macro avg  weighted avg\n",
            "precision   0.82  0.61      0.74       0.71          0.74\n",
            "recall      0.77  0.68      0.74       0.72          0.74\n",
            "f1-score    0.79  0.64      0.74       0.72          0.74\n",
            "support   151.00 80.00      0.74     231.00        231.00\n"
          ]
        }
      ]
    },
    {
      "cell_type": "code",
      "source": [
        "scores['Gradient Boosting'] = {\n",
        "        'Train': accuracy_score(y_train, grad_boost_clf.predict(X_train)),\n",
        "        'Test': accuracy_score(y_test, grad_boost_clf.predict(X_test)),\n",
        "    }"
      ],
      "metadata": {
        "id": "CN5yEYOC-n5Q"
      },
      "execution_count": 24,
      "outputs": []
    },
    {
      "cell_type": "code",
      "source": [
        "from sklearn.ensemble import VotingClassifier\n",
        "from sklearn.linear_model import LogisticRegression\n",
        "from sklearn.svm import SVC\n",
        "\n",
        "estimators = []\n",
        "log_reg = LogisticRegression(solver='liblinear')\n",
        "estimators.append(('Logistic', log_reg))\n",
        "\n",
        "tree = DecisionTreeClassifier()\n",
        "estimators.append(('Tree', tree))\n",
        "\n",
        "svm_clf = SVC(gamma='scale')\n",
        "estimators.append(('SVM', svm_clf))\n",
        "\n",
        "voting = VotingClassifier(estimators=estimators)\n",
        "voting.fit(X_train, y_train)\n",
        "\n",
        "evaluate(voting, X_train, X_test, y_train, y_test)"
      ],
      "metadata": {
        "colab": {
          "base_uri": "https://localhost:8080/"
        },
        "id": "oQBRlvlD-rOQ",
        "outputId": "3d415b10-d361-4d72-c53a-bfdab92a00b5"
      },
      "execution_count": 25,
      "outputs": [
        {
          "output_type": "stream",
          "name": "stdout",
          "text": [
            "TRAINIG RESULTS: \n",
            "===============================\n",
            "CONFUSION MATRIX:\n",
            "[[327  22]\n",
            " [ 82 106]]\n",
            "ACCURACY SCORE:\n",
            "0.8063\n",
            "CLASSIFICATION REPORT:\n",
            "               0      1  accuracy  macro avg  weighted avg\n",
            "precision   0.80   0.83      0.81       0.81          0.81\n",
            "recall      0.94   0.56      0.81       0.75          0.81\n",
            "f1-score    0.86   0.67      0.81       0.77          0.80\n",
            "support   349.00 188.00      0.81     537.00        537.00\n",
            "TESTING RESULTS: \n",
            "===============================\n",
            "CONFUSION MATRIX:\n",
            "[[128  23]\n",
            " [ 37  43]]\n",
            "ACCURACY SCORE:\n",
            "0.7403\n",
            "CLASSIFICATION REPORT:\n",
            "               0     1  accuracy  macro avg  weighted avg\n",
            "precision   0.78  0.65      0.74       0.71          0.73\n",
            "recall      0.85  0.54      0.74       0.69          0.74\n",
            "f1-score    0.81  0.59      0.74       0.70          0.73\n",
            "support   151.00 80.00      0.74     231.00        231.00\n"
          ]
        }
      ]
    },
    {
      "cell_type": "code",
      "source": [
        "scores['Voting'] = {\n",
        "        'Train': accuracy_score(y_train, voting.predict(X_train)),\n",
        "        'Test': accuracy_score(y_test, voting.predict(X_test)),\n",
        "    }"
      ],
      "metadata": {
        "id": "cDlJPAdQ-uFQ"
      },
      "execution_count": 26,
      "outputs": []
    },
    {
      "cell_type": "code",
      "source": [
        "scores_df = pd.DataFrame(scores)\n",
        "\n",
        "scores_df.plot(kind='barh', figsize=(15, 8))"
      ],
      "metadata": {
        "colab": {
          "base_uri": "https://localhost:8080/",
          "height": 406
        },
        "id": "P42CO_zC-zig",
        "outputId": "05cd4a69-bb93-4722-cb7e-52a1dd841a45"
      },
      "execution_count": 27,
      "outputs": [
        {
          "output_type": "execute_result",
          "data": {
            "text/plain": [
              "<Axes: >"
            ]
          },
          "metadata": {},
          "execution_count": 27
        },
        {
          "output_type": "display_data",
          "data": {
            "text/plain": [
              "<Figure size 1500x800 with 1 Axes>"
            ],
            "image/png": "[encoded data removed]"
          },
          "metadata": {}
        }
      ]
    }
  ]
}